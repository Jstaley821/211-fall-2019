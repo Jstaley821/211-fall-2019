{
  "nbformat": 4,
  "nbformat_minor": 0,
  "metadata": {
    "colab": {
      "name": "Staley 02-ListsTuples_Lab.ipynb",
      "provenance": [],
      "collapsed_sections": [],
      "include_colab_link": true
    },
    "kernelspec": {
      "name": "python3",
      "display_name": "Python 3"
    }
  },
  "cells": [
    {
      "cell_type": "markdown",
      "metadata": {
        "id": "view-in-github",
        "colab_type": "text"
      },
      "source": [
        "<a href=\"https://colab.research.google.com/github/Jstaley821/211-fall-2019/blob/master/Staley_02_ListsTuples_Lab.ipynb\" target=\"_parent\"><img src=\"https://colab.research.google.com/assets/colab-badge.svg\" alt=\"Open In Colab\"/></a>"
      ]
    },
    {
      "cell_type": "markdown",
      "metadata": {
        "id": "pE2044bBAk0X"
      },
      "source": [
        "# Lab Exercise \n",
        "\n",
        "Complete the questions below as part of the Lab exercises."
      ]
    },
    {
      "cell_type": "markdown",
      "metadata": {
        "id": "jUJXLHTeAebu"
      },
      "source": [
        "# Part 1\n",
        "\n",
        "After running the starter code, complete the questions below."
      ]
    },
    {
      "cell_type": "code",
      "metadata": {
        "id": "C-XRQaWBAvEC"
      },
      "source": [
        "# STARTER CODE 1\n",
        "! pip install newspaper3k"
      ],
      "execution_count": null,
      "outputs": []
    },
    {
      "cell_type": "code",
      "metadata": {
        "id": "E5p_iRiiA0lm"
      },
      "source": [
        "# STARTER CODE 1\n",
        "from newspaper import Article\n",
        "URL = \"https://www.boston.com/travel/travel/2020/09/16/best-apple-orchard-according-to-readers\"\n",
        "article = Article(URL)\n",
        "article.download()\n",
        "article.parse()\n",
        "article_text = article.text"
      ],
      "execution_count": null,
      "outputs": []
    },
    {
      "cell_type": "code",
      "metadata": {
        "id": "SS60gwDzQyna"
      },
      "source": [
        "# Q1: print out the article_text variable. This is the variable we will be using.\n",
        "print(article_text)\n"
      ],
      "execution_count": null,
      "outputs": []
    },
    {
      "cell_type": "code",
      "metadata": {
        "id": "j1dOPKBGQ16h"
      },
      "source": [
        "# Q2: how many times does the word apple appear across any case (upper or lower)?\n",
        "article_text = article_text.upper()\n",
        "print(\"The number of times the word apple appears in this article is {} times.\".format(article_text.count(\"APPLE\")))"
      ],
      "execution_count": null,
      "outputs": []
    },
    {
      "cell_type": "code",
      "metadata": {
        "id": "bTtgcBkBRSQQ"
      },
      "source": [
        "# Q3: how many individual words are there?\n",
        "# TRICKY:  Look at the string methods\n",
        "# Also an opportunity to think about how you might search for help to a problem, \n",
        "# search engines are our friend.\n",
        "\n",
        "article_len = len(article_text.split())\n",
        "print(\"The number of words in this article is {}.\".format(article_len))\n"
      ],
      "execution_count": null,
      "outputs": []
    },
    {
      "cell_type": "code",
      "metadata": {
        "id": "9Z1ZWCq7RjWg"
      },
      "source": [
        "# Q4:  Building on the solution above, create a list where each entry is a sentence.\n",
        "# use \".\" to define a sentence.\n",
        "\n",
        "sentence_list = article_text.split('.')\n",
        "sentence_list"
      ],
      "execution_count": null,
      "outputs": []
    },
    {
      "cell_type": "code",
      "metadata": {
        "id": "urg7ESVPRx47"
      },
      "source": [
        "# Q5: How many characters are there in article_text\n",
        "merge_string = \"\"\n",
        "\n",
        "for i in range(len(article_text)):\n",
        "  merge_string += article_text[i]\n",
        "\n",
        "num_chars = len(article_text)\n",
        "\n",
        "print(\"The number of characters in the article text is {} characters.\".format(num_chars))\n",
        "\n"
      ],
      "execution_count": null,
      "outputs": []
    },
    {
      "cell_type": "code",
      "metadata": {
        "id": "lJcq3d8FSKuW"
      },
      "source": [
        "# Q6: subset article_text to include only the first 100 characters\n",
        "\n",
        "sub_article_text = merge_string[0:100]\n",
        "len(sub_article_text)"
      ],
      "execution_count": null,
      "outputs": []
    },
    {
      "cell_type": "markdown",
      "metadata": {
        "id": "bmQBAJ9oSVvw"
      },
      "source": [
        "# Part 2"
      ]
    },
    {
      "cell_type": "code",
      "metadata": {
        "id": "NJupRYTMbRyp"
      },
      "source": [
        "# STARTER CODE SNIPPET\n",
        "\n",
        "# our list\n",
        "our_list = [1,2,3,4,5, ['a', 'b', 'c'], 6, 7, 8, 9, 10]\n"
      ],
      "execution_count": null,
      "outputs": []
    },
    {
      "cell_type": "code",
      "metadata": {
        "id": "jF-wRjq4cOtF"
      },
      "source": [
        "# Q1:  What is the length of the object/variable our_list?\n",
        "\n",
        "list_len = len(our_list)\n",
        "\n",
        "print(\"The length of the list is {}.\".format(list_len))\n"
      ],
      "execution_count": null,
      "outputs": []
    },
    {
      "cell_type": "code",
      "metadata": {
        "id": "Qt63uzUicQSJ"
      },
      "source": [
        "# Q2: Append the number 11 to the end of the list\n",
        "\n",
        "our_list.append(11)\n",
        "our_list"
      ],
      "execution_count": null,
      "outputs": []
    },
    {
      "cell_type": "code",
      "metadata": {
        "id": "Bimkvnvsd8WO"
      },
      "source": [
        "# Q3: remove the 11 you just added in Q2\n",
        "\n",
        "our_list.pop()\n",
        "our_list"
      ],
      "execution_count": null,
      "outputs": []
    },
    {
      "cell_type": "code",
      "metadata": {
        "id": "sKvp0HKQeG9q"
      },
      "source": [
        "# Q4: Create a list that only contains the list of letters\n",
        "# call this variable letters\n",
        "\n",
        "letters = our_list[5]\n",
        "letters"
      ],
      "execution_count": null,
      "outputs": []
    },
    {
      "cell_type": "code",
      "metadata": {
        "id": "Qv1LClXBTWX6"
      },
      "source": [
        "# reverse the variable letters\n",
        "letters.reverse()\n",
        "letters"
      ],
      "execution_count": null,
      "outputs": []
    }
  ]
}